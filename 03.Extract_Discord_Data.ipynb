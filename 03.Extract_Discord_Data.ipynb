{
 "cells": [
  {
   "cell_type": "markdown",
   "id": "1493614b",
   "metadata": {},
   "source": [
    "# Export Discord Data"
   ]
  },
  {
   "cell_type": "markdown",
   "id": "fec979d0",
   "metadata": {},
   "source": [
    "Use discord chat export to export the target discussion into cvs format. Following link is the tools and details steps to export data\n",
    "https://github.com/Tyrrrz/DiscordChatExporter"
   ]
  },
  {
   "cell_type": "markdown",
   "id": "115b84a7",
   "metadata": {},
   "source": [
    "In this article, we mainly export only announcement and general discussion from the target group. "
   ]
  },
  {
   "cell_type": "code",
   "execution_count": null,
   "id": "28bd6c1c",
   "metadata": {},
   "outputs": [],
   "source": []
  }
 ],
 "metadata": {
  "kernelspec": {
   "display_name": "Python 3 (ipykernel)",
   "language": "python",
   "name": "python3"
  },
  "language_info": {
   "codemirror_mode": {
    "name": "ipython",
    "version": 3
   },
   "file_extension": ".py",
   "mimetype": "text/x-python",
   "name": "python",
   "nbconvert_exporter": "python",
   "pygments_lexer": "ipython3",
   "version": "3.9.12"
  }
 },
 "nbformat": 4,
 "nbformat_minor": 5
}
